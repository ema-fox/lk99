{
 "cells": [
  {
   "cell_type": "markdown",
   "metadata": {},
   "source": [
    "# PXRD on PbSO4\n",
    "\n",
    " - Date: 3.8.2023\n",
    " - Measured by: Ross Colman\n",
    " - Data evaluation: Petr Cermak\n"
   ]
  },
  {
   "cell_type": "markdown",
   "metadata": {},
   "source": []
  }
 ],
 "metadata": {
  "language_info": {
   "name": "python"
  },
  "orig_nbformat": 4
 },
 "nbformat": 4,
 "nbformat_minor": 2
}
