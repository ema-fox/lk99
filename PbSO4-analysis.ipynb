{
 "cells": [
  {
   "cell_type": "markdown",
   "metadata": {},
   "source": [
    "# PXRD on PbSO4\n",
    "\n",
    " - Date: 3.8.2023\n",
    " - Measured by: Ross Colman\n",
    " - Data evaluation: Petr Cermak\n"
   ]
  },
  {
   "cell_type": "code",
   "execution_count": null,
   "metadata": {},
   "outputs": [],
   "source": [
    "# EasyScience, technique-independent\n",
    "from easyCore import np\n",
    "from easyCore.Fitting.Fitting import Fitter\n",
    "\n",
    "# EasyScience, diffraction\n",
    "from easyDiffractionLib import Site, Phase, Phases\n",
    "from easyDiffractionLib.Jobs import Powder1DCW\n",
    "\n",
    "# Vizualization\n",
    "import py3Dmol\n",
    "from bokeh.io import show, output_notebook\n",
    "from bokeh.plotting import figure\n",
    "\n",
    "# Misc\n",
    "import xarray as xr"
   ]
  },
  {
   "cell_type": "markdown",
   "metadata": {},
   "source": []
  }
 ],
 "metadata": {
  "language_info": {
   "name": "python"
  },
  "orig_nbformat": 4
 },
 "nbformat": 4,
 "nbformat_minor": 2
}
